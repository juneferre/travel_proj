{
 "cells": [
  {
   "cell_type": "code",
   "execution_count": 1,
   "metadata": {},
   "outputs": [],
   "source": [
    "# importing the necessary packages\n",
    "import pandas as pd\n",
    "import numpy as np\n",
    "import requests\n",
    "from bs4 import BeautifulSoup"
   ]
  },
  {
   "cell_type": "markdown",
   "metadata": {},
   "source": [
    "# Scraping the Wikipedia 2018/2016 top 100 Table"
   ]
  },
  {
   "cell_type": "code",
   "execution_count": 16,
   "metadata": {},
   "outputs": [],
   "source": [
    "url = 'https://en.wikipedia.org/wiki/List_of_cities_by_international_visitors'\n",
    "r = requests.get(url)\n",
    "text = r.text\n",
    "soup = BeautifulSoup(r.text)"
   ]
  },
  {
   "cell_type": "code",
   "execution_count": 17,
   "metadata": {},
   "outputs": [],
   "source": [
    "tables = pd.read_html(url)"
   ]
  },
  {
   "cell_type": "code",
   "execution_count": 19,
   "metadata": {},
   "outputs": [],
   "source": [
    "df = tables[2]"
   ]
  },
  {
   "cell_type": "code",
   "execution_count": 25,
   "metadata": {},
   "outputs": [
    {
     "name": "stdout",
     "output_type": "stream",
     "text": [
      "    Rank (Euromonitor)            City Country / Territory\n",
      "0                  1.0       Hong Kong           Hong Kong\n",
      "1                  2.0         Bangkok            Thailand\n",
      "2                  3.0          London      United Kingdom\n",
      "3                  4.0           Macau               Macau\n",
      "4                  5.0       Singapore           Singapore\n",
      "..                 ...             ...                 ...\n",
      "95                96.0            Jeju         South Korea\n",
      "96                97.0           Porto            Portugal\n",
      "97                98.0          Rhodes              Greece\n",
      "98                99.0  Rio de Janeiro              Brazil\n",
      "99               100.0           Krabi            Thailand\n",
      "\n",
      "[100 rows x 3 columns]\n"
     ]
    }
   ],
   "source": [
    "df_cleaned = df.dropna(subset=['Rank (Euromonitor)'])\n",
    "final_cities_df = df_cleaned[['Rank (Euromonitor)', 'City', 'Country / Territory']]\n",
    "print(final_cities_df)"
   ]
  }
 ],
 "metadata": {
  "kernelspec": {
   "display_name": "env386",
   "language": "python",
   "name": "python3"
  },
  "language_info": {
   "codemirror_mode": {
    "name": "ipython",
    "version": 3
   },
   "file_extension": ".py",
   "mimetype": "text/x-python",
   "name": "python",
   "nbconvert_exporter": "python",
   "pygments_lexer": "ipython3",
   "version": "3.12.8"
  }
 },
 "nbformat": 4,
 "nbformat_minor": 2
}
