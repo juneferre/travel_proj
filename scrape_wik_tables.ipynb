{
 "cells": [
  {
   "cell_type": "code",
   "execution_count": 1,
   "metadata": {},
   "outputs": [],
   "source": [
    "# importing the necessary packages\n",
    "import pandas as pd\n",
    "import numpy as np\n",
    "import requests\n",
    "from bs4 import BeautifulSoup"
   ]
  },
  {
   "cell_type": "markdown",
   "metadata": {},
   "source": [
    "# Scraping the Wikipedia 2018/2016 top 100 Table"
   ]
  },
  {
   "cell_type": "code",
   "execution_count": 16,
   "metadata": {},
   "outputs": [],
   "source": [
    "url = 'https://en.wikipedia.org/wiki/List_of_cities_by_international_visitors'\n",
    "r = requests.get(url)\n",
    "text = r.text\n",
    "soup = BeautifulSoup(r.text)"
   ]
  },
  {
   "cell_type": "code",
   "execution_count": 17,
   "metadata": {},
   "outputs": [],
   "source": [
    "tables = pd.read_html(url)"
   ]
  },
  {
   "cell_type": "code",
   "execution_count": 19,
   "metadata": {},
   "outputs": [],
   "source": [
    "df = tables[2]"
   ]
  },
  {
   "cell_type": "code",
   "execution_count": 29,
   "metadata": {},
   "outputs": [],
   "source": [
    "df_cleaned = df.dropna(subset=['Rank (Euromonitor)'])\n",
    "final_cities_df = df_cleaned[['Rank (Euromonitor)', 'City', 'Country / Territory']]"
   ]
  },
  {
   "cell_type": "code",
   "execution_count": 30,
   "metadata": {},
   "outputs": [],
   "source": [
    "final_cities_df.to_csv('ranked_cities')"
   ]
  },
  {
   "cell_type": "markdown",
   "metadata": {},
   "source": [
    "# List of Links"
   ]
  },
  {
   "cell_type": "code",
   "execution_count": null,
   "metadata": {},
   "outputs": [],
   "source": [
    "links = []\n"
   ]
  },
  {
   "cell_type": "markdown",
   "metadata": {},
   "source": [
    "https://www.budgetyourtrip.com/hong-kong\n",
    "\n",
    "https://www.budgetyourtrip.com/thailand\n",
    "\n",
    "https://www.budgetyourtrip.com/united-kingdom/london\n",
    "\n",
    "https://www.budgetyourtrip.com/budgetreportadv.php?country_code=&startdate=&enddate=&categoryid=&budgettype=&triptype=&travelerno=&geonameid=1821274\n",
    "\n",
    "https://www.budgetyourtrip.com/singapore\n",
    "\n",
    "https://www.budgetyourtrip.com/france/paris\n",
    "\n",
    "https://www.budgetyourtrip.com/united-arab-emirates/dubai\n",
    "\n",
    "https://www.budgetyourtrip.com/united-states-of-america/new-york-city\n",
    "\n",
    "https://www.budgetyourtrip.com/malaysia/kuala-lumpur\n",
    "\n",
    "https://www.budgetyourtrip.com/turkey/istanbul\n",
    "\n",
    "https://www.budgetyourtrip.com/india/delhi\n",
    "\n",
    "https://www.budgetyourtrip.com/turkey/antalya\n",
    "\n",
    "https://www.budgetyourtrip.com/china/shenzhen\n",
    "\n",
    "https://www.budgetyourtrip.com/india/mumbai\n",
    "\n",
    "https://www.budgetyourtrip.com/spain/palma-de-mallorca\n",
    "\n",
    "https://www.budgetyourtrip.com/spain/palma-de-mallorca\n",
    "\n",
    "https://www.budgetyourtrip.com/italy/rome\n",
    "\n",
    "https://www.budgetyourtrip.com/japan/tokyo\n",
    "\n"
   ]
  }
 ],
 "metadata": {
  "kernelspec": {
   "display_name": "env386",
   "language": "python",
   "name": "python3"
  },
  "language_info": {
   "codemirror_mode": {
    "name": "ipython",
    "version": 3
   },
   "file_extension": ".py",
   "mimetype": "text/x-python",
   "name": "python",
   "nbconvert_exporter": "python",
   "pygments_lexer": "ipython3",
   "version": "3.12.8"
  }
 },
 "nbformat": 4,
 "nbformat_minor": 2
}
